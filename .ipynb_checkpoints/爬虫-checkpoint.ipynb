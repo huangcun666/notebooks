{
 "cells": [
  {
   "cell_type": "code",
   "execution_count": 3,
   "metadata": {},
   "outputs": [
    {
     "name": "stdout",
     "output_type": "stream",
     "text": [
      "<a class=\"sister\" href=\"http://example.com/elsie\" id=\"link1\">三等分三份</a>\n"
     ]
    }
   ],
   "source": [
    "import re\n",
    "from bs4 import BeautifulSoup\n",
    "html_doc = \"\"\"\n",
    "<html><head><title>The Dormouse's story</title></head>\n",
    "<body>\n",
    "<p class=\"title\"><b>The Dormouse's story</b></p>\n",
    "<p class=\"story\">Once upon a time there were three little sisters; and their names were\n",
    "<a href=\"http://example.com/elsie\" class=\"sister\" id=\"link1\">三等分三份</a>,\n",
    "<a href=\"http://example.com/lacie\" class=\"sister\" id=\"link2\">Lacie</a> and\n",
    "<a href=\"http://example.com/tillie\" class=\"sister\" id=\"link3\">Tillie</a>;\n",
    "and they lived at the bottom of a well.</p>\n",
    "<p class=\"story\">...</p>\n",
    "\"\"\"\n",
    "soup=BeautifulSoup(html_doc,'html.parser',from_encoding='utf-8')\n",
    "link_node = soup.find('a',href=re.compile(r\"example.\"))\n",
    "print(link_node)"
   ]
  },
  {
   "cell_type": "code",
   "execution_count": 2,
   "metadata": {},
   "outputs": [],
   "source": [
    "from urllib.request import urlopen\n",
    "html=urlopen(\"https://morvanzhou.github.io/static/scraping/table.html\").read().decode('utf-8')"
   ]
  },
  {
   "cell_type": "code",
   "execution_count": 4,
   "metadata": {},
   "outputs": [
    {
     "name": "stdout",
     "output_type": "stream",
     "text": [
      "https://morvanzhou.github.io/static/img/course_cover/tf.jpg\n",
      "https://morvanzhou.github.io/static/img/course_cover/rl.jpg\n",
      "https://morvanzhou.github.io/static/img/course_cover/scraping.jpg\n"
     ]
    }
   ],
   "source": [
    "soup=BeautifulSoup(html,features='lxml')\n",
    "img_links=soup.find_all(\"img\",{\"src\":re.compile('.*?\\.jpg')})\n",
    "for link in img_links:\n",
    "    print(link['src'])"
   ]
  },
  {
   "cell_type": "code",
   "execution_count": null,
   "metadata": {},
   "outputs": [],
   "source": [
    "from urllib.parse import quote\n",
    "from urllib.request import urlopen\n",
    "import string,re,random\n",
    "from bs4 import BeautifulSoup\n",
    "base_url=\"https://baike.baidu.com\"\n",
    "his = [\"/item/网络爬虫/5162711\"]\n",
    "for i in range(20):\n",
    "    url=base_url+his[-1]\n",
    "    s=quote(url,safe=string.printable)\n",
    "    html=urlopen(s).read().decode('utf-8')\n",
    "    soup=BeautifulSoup(html,features='lxml')\n",
    "    print(i,soup.find('h1').get_text(),' url:',his[-1])\n",
    "    sub_urls=soup.find_all('a',{'target':'_blank','href':re.compile('/item/(%.{2})+$')})\n",
    "    if len(sub_urls)>0:\n",
    "        his.append(random.sample(sub_urls,1)[0]['href'])\n",
    "    else:\n",
    "        print('123')\n",
    "        his.pop()\n"
   ]
  },
  {
   "cell_type": "code",
   "execution_count": null,
   "metadata": {},
   "outputs": [],
   "source": []
  }
 ],
 "metadata": {
  "kernelspec": {
   "display_name": "Python 3",
   "language": "python",
   "name": "python3"
  },
  "language_info": {
   "codemirror_mode": {
    "name": "ipython",
    "version": 3
   },
   "file_extension": ".py",
   "mimetype": "text/x-python",
   "name": "python",
   "nbconvert_exporter": "python",
   "pygments_lexer": "ipython3",
   "version": "3.6.7"
  }
 },
 "nbformat": 4,
 "nbformat_minor": 2
}
