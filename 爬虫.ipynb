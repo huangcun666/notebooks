{
 "cells": [
  {
   "cell_type": "code",
   "execution_count": 3,
   "metadata": {},
   "outputs": [
    {
     "name": "stdout",
     "output_type": "stream",
     "text": [
      "<a class=\"sister\" href=\"http://example.com/elsie\" id=\"link1\">三等分三份</a>\n"
     ]
    }
   ],
   "source": [
    "import re\n",
    "from bs4 import BeautifulSoup\n",
    "html_doc = \"\"\"\n",
    "<html><head><title>The Dormouse's story</title></head>\n",
    "<body>\n",
    "<p class=\"title\"><b>The Dormouse's story</b></p>\n",
    "<p class=\"story\">Once upon a time there were three little sisters; and their names were\n",
    "<a href=\"http://example.com/elsie\" class=\"sister\" id=\"link1\">三等分三份</a>,\n",
    "<a href=\"http://example.com/lacie\" class=\"sister\" id=\"link2\">Lacie</a> and\n",
    "<a href=\"http://example.com/tillie\" class=\"sister\" id=\"link3\">Tillie</a>;\n",
    "and they lived at the bottom of a well.</p>\n",
    "<p class=\"story\">...</p>\n",
    "\"\"\"\n",
    "soup=BeautifulSoup(html_doc,'html.parser',from_encoding='utf-8')\n",
    "link_node = soup.find('a',href=re.compile(r\"example.\"))\n",
    "print(link_node)"
   ]
  },
  {
   "cell_type": "code",
   "execution_count": 2,
   "metadata": {},
   "outputs": [],
   "source": [
    "from urllib.request import urlopen\n",
    "html=urlopen(\"https://morvanzhou.github.io/static/scraping/table.html\").read().decode('utf-8')"
   ]
  },
  {
   "cell_type": "code",
   "execution_count": 4,
   "metadata": {},
   "outputs": [
    {
     "name": "stdout",
     "output_type": "stream",
     "text": [
      "https://morvanzhou.github.io/static/img/course_cover/tf.jpg\n",
      "https://morvanzhou.github.io/static/img/course_cover/rl.jpg\n",
      "https://morvanzhou.github.io/static/img/course_cover/scraping.jpg\n"
     ]
    }
   ],
   "source": [
    "soup=BeautifulSoup(html,features='lxml')\n",
    "img_links=soup.find_all(\"img\",{\"src\":re.compile('.*?\\.jpg')})\n",
    "for link in img_links:\n",
    "    print(link['src'])"
   ]
  },
  {
   "cell_type": "code",
   "execution_count": 15,
   "metadata": {},
   "outputs": [
    {
     "name": "stdout",
     "output_type": "stream",
     "text": [
      "0 网络爬虫     url:  /item/%E7%BD%91%E7%BB%9C%E7%88%AC%E8%99%AB/5162711\n",
      "1 排序算法     url:  /item/%E6%8E%92%E5%BA%8F%E7%AE%97%E6%B3%95\n",
      "2 数据元素     url:  /item/%E6%95%B0%E6%8D%AE%E5%85%83%E7%B4%A0\n",
      "3 数据单元     url:  /item/%E6%95%B0%E6%8D%AE%E5%8D%95%E5%85%83\n",
      "4 数据包     url:  /item/%E6%95%B0%E6%8D%AE%E5%8C%85\n",
      "5 应用层     url:  /item/%E5%BA%94%E7%94%A8%E5%B1%82\n",
      "6 义项     url:  /item/%E4%B9%89%E9%A1%B9\n",
      "7 彼得·伊里奇·柴可夫斯基     url:  /item/%E5%BD%BC%E5%BE%97%C2%B7%E4%BC%8A%E9%87%8C%E5%A5%87%C2%B7%E6%9F%B4%E7%A7%91%E5%A4%AB%E6%96%AF%E5%9F%BA\n",
      "8 协奏曲     url:  /item/%E5%8D%8F%E5%A5%8F%E6%9B%B2\n",
      "9 何占豪     url:  /item/%E4%BD%95%E5%8D%A0%E8%B1%AA\n",
      "10 上海音乐学院     url:  /item/%E4%B8%8A%E6%B5%B7%E9%9F%B3%E4%B9%90%E5%AD%A6%E9%99%A2\n",
      "11 国务院政府特殊津贴     url:  /item/%E5%9B%BD%E5%8A%A1%E9%99%A2%E7%89%B9%E6%AE%8A%E6%B4%A5%E8%B4%B4\n",
      "12 温家宝     url:  /item/%E6%B8%A9%E5%AE%B6%E5%AE%9D\n",
      "13 天津     url:  /item/%E5%A4%A9%E6%B4%A5\n",
      "14 清河农场     url:  /item/%E6%B8%85%E6%B2%B3%E5%86%9C%E5%9C%BA\n",
      "15 宁河区     url:  /item/%E5%AE%81%E6%B2%B3\n",
      "16 芦台镇     url:  /item/%E8%8A%A6%E5%8F%B0%E9%95%87\n",
      "17 社会发展     url:  /item/%E7%A4%BE%E4%BC%9A%E5%8F%91%E5%B1%95\n",
      "18 义项     url:  /item/%E4%B9%89%E9%A1%B9\n",
      "19 神雕侠侣     url:  /item/%E7%A5%9E%E9%9B%95%E4%BE%A0%E4%BE%A3\n"
     ]
    },
    {
     "ename": "AttributeError",
     "evalue": "'str' object has no attribute 'get_text'",
     "output_type": "error",
     "traceback": [
      "\u001b[0;31m---------------------------------------------------------------------------\u001b[0m",
      "\u001b[0;31mAttributeError\u001b[0m                            Traceback (most recent call last)",
      "\u001b[0;32m<ipython-input-15-c35618f4f962>\u001b[0m in \u001b[0;36m<module>\u001b[0;34m\u001b[0m\n\u001b[1;32m     20\u001b[0m         \u001b[0mhis\u001b[0m\u001b[0;34m.\u001b[0m\u001b[0mpop\u001b[0m\u001b[0;34m(\u001b[0m\u001b[0;34m)\u001b[0m\u001b[0;34m\u001b[0m\u001b[0;34m\u001b[0m\u001b[0m\n\u001b[1;32m     21\u001b[0m \u001b[0;32mfor\u001b[0m \u001b[0mitem\u001b[0m \u001b[0;32min\u001b[0m \u001b[0mhis\u001b[0m\u001b[0;34m:\u001b[0m\u001b[0;34m\u001b[0m\u001b[0;34m\u001b[0m\u001b[0m\n\u001b[0;32m---> 22\u001b[0;31m     \u001b[0mprint\u001b[0m\u001b[0;34m(\u001b[0m\u001b[0mitem\u001b[0m\u001b[0;34m.\u001b[0m\u001b[0mget_text\u001b[0m\u001b[0;34m(\u001b[0m\u001b[0;34m)\u001b[0m\u001b[0;34m,\u001b[0m\u001b[0mitem\u001b[0m\u001b[0;34m)\u001b[0m\u001b[0;34m\u001b[0m\u001b[0;34m\u001b[0m\u001b[0m\n\u001b[0m",
      "\u001b[0;31mAttributeError\u001b[0m: 'str' object has no attribute 'get_text'"
     ]
    }
   ],
   "source": [
    "from urllib.parse import quote\n",
    "import string,re,random\n",
    "base_url=\"https://baike.baidu.com\"\n",
    "his = [\"/item/%E7%BD%91%E7%BB%9C%E7%88%AC%E8%99%AB/5162711\"]\n",
    "\n",
    "for i in range(20):\n",
    "    url = base_url + his[-1]\n",
    "\n",
    "    html = urlopen(url).read().decode('utf-8')\n",
    "    soup = BeautifulSoup(html, features='lxml')\n",
    "    print(i, soup.find('h1').get_text(), '    url: ', his[-1])\n",
    "\n",
    "    # find valid urls\n",
    "    sub_urls = soup.find_all(\"a\", {\"target\": \"_blank\", \"href\": re.compile(\"/item/(%.{2})+$\")})\n",
    "\n",
    "    if len(sub_urls) != 0:\n",
    "        his.append(random.sample(sub_urls, 1)[0]['href'])\n",
    "    else:\n",
    "        # no valid sub link found\n",
    "        his.pop()\n",
    "for item in his:\n",
    "    print(item.get_text(),item)"
   ]
  },
  {
   "cell_type": "code",
   "execution_count": null,
   "metadata": {},
   "outputs": [],
   "source": []
  }
 ],
 "metadata": {
  "kernelspec": {
   "display_name": "Python 3",
   "language": "python",
   "name": "python3"
  },
  "language_info": {
   "codemirror_mode": {
    "name": "ipython",
    "version": 3
   },
   "file_extension": ".py",
   "mimetype": "text/x-python",
   "name": "python",
   "nbconvert_exporter": "python",
   "pygments_lexer": "ipython3",
   "version": "3.6.7"
  }
 },
 "nbformat": 4,
 "nbformat_minor": 2
}
