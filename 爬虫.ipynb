{
 "cells": [
  {
   "cell_type": "code",
   "execution_count": null,
   "metadata": {},
   "outputs": [],
   "source": [
    "import re\n",
    "from bs4 import BeautifulSoup\n",
    "html_doc = \"\"\"\n",
    "<html><head><title>The Dormouse's story</title></head>\n",
    "<body>\n",
    "<p class=\"title\"><b>The Dormouse's story</b></p>\n",
    "<p class=\"story\">Once upon a time there were three little sisters; and their names were\n",
    "<a href=\"http://example.com/elsie\" class=\"sister\" id=\"link1\">三等分三份</a>,\n",
    "<a href=\"http://example.com/lacie\" class=\"sister\" id=\"link2\">Lacie</a> and\n",
    "<a href=\"http://example.com/tillie\" class=\"sister\" id=\"link3\">Tillie</a>;\n",
    "and they lived at the bottom of a well.</p>\n",
    "<p class=\"story\">...</p>\n",
    "\"\"\"\n",
    "soup=BeautifulSoup(html_doc,'html.parser',from_encoding='utf-8')\n",
    "link_node = soup.find('a',href=re.compile(r\"example.\"))\n",
    "print(link_node)"
   ]
  },
  {
   "cell_type": "code",
   "execution_count": 2,
   "metadata": {},
   "outputs": [],
   "source": [
    "from urllib.request import urlopen\n",
    "html=urlopen(\"https://morvanzhou.github.io/static/scraping/table.html\").read().decode('utf-8')"
   ]
  },
  {
   "cell_type": "code",
   "execution_count": null,
   "metadata": {},
   "outputs": [],
   "source": [
    "soup=BeautifulSoup(html,features='lxml')\n",
    "img_links=soup.find_all(\"img\",{\"src\":re.compile('.*?\\.jpg')})\n",
    "for link in img_links:\n",
    "    print(link['src'])"
   ]
  },
  {
   "cell_type": "code",
   "execution_count": 1,
   "metadata": {},
   "outputs": [
    {
     "name": "stdout",
     "output_type": "stream",
     "text": [
      "123\n",
      "0 网络爬虫  url: /item/网络爬虫/5162711\n",
      "1 超链接  url: /item/%E8%B6%85%E9%93%BE%E6%8E%A5\n",
      "2 空链接  url: /item/%E7%A9%BA%E9%93%BE%E6%8E%A5\n",
      "3 指针  url: /item/%E6%8C%87%E9%92%88\n",
      "4 赋值语句  url: /item/%E8%B5%8B%E5%80%BC%E8%AF%AD%E5%8F%A5\n",
      "5 数组  url: /item/%E6%95%B0%E7%BB%84\n",
      "6 字符  url: /item/%E5%AD%97%E7%AC%A6\n",
      "7 汉字  url: /item/%E6%B1%89%E5%AD%97\n",
      "8 汉字拉丁化  url: /item/%E6%B1%89%E5%AD%97%E6%8B%89%E4%B8%81%E5%8C%96\n",
      "9 威妥玛式拼音法  url: /item/%E5%A8%81%E5%A6%A5%E7%8E%9B%E6%8B%BC%E9%9F%B3\n",
      "10 空韵  url: /item/%E7%A9%BA%E9%9F%B5\n",
      "123\n",
      "11 威妥玛式拼音法  url: /item/%E5%A8%81%E5%A6%A5%E7%8E%9B%E6%8B%BC%E9%9F%B3\n",
      "12 邮政式拼音  url: /item/%E9%82%AE%E6%94%BF%E5%BC%8F%E6%8B%BC%E9%9F%B3\n",
      "13 拉丁字母  url: /item/%E6%8B%89%E4%B8%81%E5%AD%97%E6%AF%8D\n",
      "14 法语  url: /item/%E6%B3%95%E8%AF%AD\n",
      "15 辅音字母  url: /item/%E8%BE%85%E9%9F%B3%E5%AD%97%E6%AF%8D\n",
      "16 塞音  url: /item/%E5%A1%9E%E9%9F%B3\n",
      "17 齿音  url: /item/%E9%BD%BF%E9%9F%B3\n",
      "18 次清  url: /item/%E6%AC%A1%E6%B8%85\n",
      "19 汉语  url: /item/%E6%B1%89%E8%AF%AD\n"
     ]
    }
   ],
   "source": [
    "from urllib.parse import quote\n",
    "from urllib.request import urlopen\n",
    "import string,re,random\n",
    "from bs4 import BeautifulSoup\n",
    "base_url=\"https://baike.baidu.com\"\n",
    "his = [\"/item/网络爬虫/5162711\"]\n",
    "print('123')\n",
    "for i in range(20):\n",
    "    url=base_url+his[-1]\n",
    "    s=quote(url,safe=string.printable)\n",
    "    html=urlopen(s).read().decode('utf-8')\n",
    "    soup=BeautifulSoup(html,features='lxml')\n",
    "    print(i,soup.find('h1').get_text(),' url:',his[-1])\n",
    "    sub_urls=soup.find_all('a',{'target':'_blank','href':re.compile('/item/(%.{2})+$')})\n",
    "    if len(sub_urls)>0:\n",
    "        his.append(random.sample(sub_urls,1)[0]['href'])\n",
    "    else:\n",
    "        print('123')\n",
    "        his.pop()\n"
   ]
  },
  {
   "cell_type": "code",
   "execution_count": null,
   "metadata": {},
   "outputs": [],
   "source": []
  },
  {
   "cell_type": "code",
   "execution_count": null,
   "metadata": {},
   "outputs": [],
   "source": []
  },
  {
   "cell_type": "code",
   "execution_count": null,
   "metadata": {},
   "outputs": [],
   "source": []
  },
  {
   "cell_type": "code",
   "execution_count": null,
   "metadata": {},
   "outputs": [],
   "source": [
    "d"
   ]
  },
  {
   "cell_type": "code",
   "execution_count": null,
   "metadata": {},
   "outputs": [],
   "source": []
  },
  {
   "cell_type": "code",
   "execution_count": null,
   "metadata": {},
   "outputs": [],
   "source": [
    "print('123')"
   ]
  },
  {
   "cell_type": "code",
   "execution_count": null,
   "metadata": {},
   "outputs": [],
   "source": []
  }
 ],
 "metadata": {
  "kernelspec": {
   "display_name": "Python 3",
   "language": "python",
   "name": "python3"
  },
  "language_info": {
   "codemirror_mode": {
    "name": "ipython",
    "version": 3
   },
   "file_extension": ".py",
   "mimetype": "text/x-python",
   "name": "python",
   "nbconvert_exporter": "python",
   "pygments_lexer": "ipython3",
   "version": "3.6.7"
  }
 },
 "nbformat": 4,
 "nbformat_minor": 2
}
